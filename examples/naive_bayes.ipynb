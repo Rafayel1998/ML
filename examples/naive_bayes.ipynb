{
 "cells": [
  {
   "cell_type": "code",
   "execution_count": 1,
   "metadata": {},
   "outputs": [],
   "source": [
    "import sys\n",
    "sys.path.append(\"../ml_models/\")\n",
    "\n",
    "from naive_bayes import NaiveBayes\n",
    "from sklearn.datasets import load_iris\n",
    "from sklearn.model_selection import train_test_split\n",
    "import numpy as np\n",
    "from sklearn.datasets import make_classification\n",
    "from matplotlib import pyplot as plt\n",
    "\n",
    "%load_ext autoreload\n",
    "%autoreload 2"
   ]
  },
  {
   "cell_type": "code",
   "execution_count": 2,
   "metadata": {},
   "outputs": [],
   "source": [
    "X, y = load_iris(return_X_y=True)\n",
    "X_train, X_test, y_train, y_test = train_test_split(X, y, random_state=24)"
   ]
  },
  {
   "cell_type": "code",
   "execution_count": 3,
   "metadata": {},
   "outputs": [
    {
     "name": "stdout",
     "output_type": "stream",
     "text": [
      "Gaussian  Naive Bayes accuracy score:  0.9473684210526315\n",
      "Uniform  Naive Bayes accuracy score:  0.9473684210526315\n",
      "Exponential  Naive Bayes accuracy score:  0.6052631578947368\n"
     ]
    }
   ],
   "source": [
    "y_preds = {}\n",
    "for distr in ['Gaussian', 'Uniform', 'Exponential']:\n",
    "    nb = NaiveBayes(distr)\n",
    "    nb.fit(X_train, y_train)\n",
    "    y_pred = nb.predict(X_test)\n",
    "    y_preds[distr] = y_pred\n",
    "    print(distr, \" Naive Bayes accuracy score: \", nb.score(X_test, y_test))"
   ]
  },
  {
   "cell_type": "code",
   "execution_count": 4,
   "metadata": {},
   "outputs": [
    {
     "name": "stdout",
     "output_type": "stream",
     "text": [
      "Gaussian|Uniform|Exponential|Actual\n",
      "2        2       1           2\n",
      "2        2       1           2\n",
      "1        0       1           1\n",
      "1        1       1           1\n",
      "2        2       1           2\n",
      "0        0       0           0\n",
      "0        0       0           0\n",
      "1        1       1           1\n",
      "0        0       0           0\n",
      "2        2       1           2\n",
      "0        0       0           0\n",
      "0        0       0           0\n",
      "0        0       0           0\n",
      "2        2       1           2\n",
      "2        2       2           2\n",
      "0        0       0           0\n",
      "2        2       1           2\n",
      "0        0       0           0\n",
      "2        2       1           2\n",
      "2        2       1           2\n",
      "2        2       1           2\n",
      "2        2       1           2\n",
      "2        2       2           2\n",
      "1        1       1           1\n",
      "2        2       1           2\n",
      "0        0       0           0\n",
      "2        2       1           2\n",
      "2        2       1           2\n",
      "0        0       0           0\n",
      "2        2       2           2\n",
      "1        1       1           1\n",
      "0        0       0           0\n",
      "2        1       1           1\n",
      "1        1       1           1\n",
      "1        1       1           2\n",
      "2        2       1           2\n",
      "0        0       0           0\n",
      "1        1       1           1\n"
     ]
    }
   ],
   "source": [
    "print(*y_preds, 'Actual', sep='|')\n",
    "preds = list(y_preds.values())\n",
    "for i in range(y_test.shape[0]):\n",
    "    print(preds[0][i], ' ' * 6, \n",
    "          preds[1][i], ' ' * 5,\n",
    "          preds[2][i], ' ' * 9,\n",
    "          y_test[i])"
   ]
  },
  {
   "cell_type": "code",
   "execution_count": 5,
   "metadata": {},
   "outputs": [],
   "source": [
    "X, y = make_classification(\n",
    "    n_samples=100,\n",
    "    n_features=2,\n",
    "    n_informative=2,\n",
    "    n_redundant=0,\n",
    "    n_classes=2\n",
    ")\n",
    "X_train, X_test, y_train, y_test = train_test_split(X, y, random_state=24)"
   ]
  },
  {
   "cell_type": "code",
   "execution_count": 6,
   "metadata": {},
   "outputs": [
    {
     "data": {
      "image/png": "[encoded data removed]",
      "text/plain": [
       "<Figure size 1728x504 with 3 Axes>"
      ]
     },
     "metadata": {
      "needs_background": "light"
     },
     "output_type": "display_data"
    }
   ],
   "source": [
    "fig = plt.figure(figsize=(24, 7))\n",
    "for i, distr in enumerate(['Gaussian', 'Uniform', 'Exponential']):\n",
    "    nb = NaiveBayes(distribution=distr)\n",
    "    nb.fit(X_train, y_train)\n",
    "    y_pred = nb.predict(X_test)\n",
    "    ax = fig.add_subplot(1, 3, i+1)\n",
    "    i_p = np.where(y_test == 1)[0]\n",
    "    i_n = np.where(y_test == 0)[0]\n",
    "    i_tp = i_p[np.in1d(i_p, np.where(y_pred == 1))]\n",
    "    i_fp = i_p[np.in1d(i_p, np.where(y_pred == 0))]\n",
    "    i_fn = i_n[np.in1d(i_n, np.where(y_pred == 1))]\n",
    "    i_tn = i_n[np.in1d(i_n, np.where(y_pred == 0))]\n",
    "    ax.set_title((distr + ' Naive Bayes'))\n",
    "    ax.scatter(X[i_tp, 0], X[i_tp, 1], marker='+', s=100, c='b', label='True Positive')\n",
    "    ax.scatter(X[i_fp, 0], X[i_fp, 1], marker='+', s=100, c='r', label='False Positive')\n",
    "    ax.scatter(X[i_fn, 0], X[i_fn, 1], marker='_', s=100, c='r', label='False Negative')\n",
    "    ax.scatter(X[i_tn, 0], X[i_tn, 1], marker='_', s=100, c='b', label='True Negative')\n",
    "    plt.legend()"
   ]
  }
 ],
 "metadata": {
  "kernelspec": {
   "display_name": "Python 3 (ipykernel)",
   "language": "python",
   "name": "python3"
  },
  "language_info": {
   "codemirror_mode": {
    "name": "ipython",
    "version": 3
   },
   "file_extension": ".py",
   "mimetype": "text/x-python",
   "name": "python",
   "nbconvert_exporter": "python",
   "pygments_lexer": "ipython3",
   "version": "3.8.12"
  }
 },
 "nbformat": 4,
 "nbformat_minor": 4
}
