{
 "cells": [
  {
   "cell_type": "code",
   "execution_count": 1,
   "id": "7947186c",
   "metadata": {},
   "outputs": [],
   "source": [
    "import sys\n",
    "sys.path.append(\"../ml_models/\")\n",
    "\n",
    "import numpy as np\n",
    "\n",
    "from matplotlib import pyplot as plt\n",
    "from sklearn.datasets import load_iris\n",
    "from sklearn.model_selection import train_test_split\n",
    "from sklearn.datasets import make_classification\n",
    "\n",
    "from discriminant_analysis import DiscriminantAnalysis\n",
    "\n",
    "%load_ext autoreload\n",
    "%autoreload 2"
   ]
  },
  {
   "cell_type": "code",
   "execution_count": 2,
   "id": "af89e8c4",
   "metadata": {},
   "outputs": [],
   "source": [
    "X, y = load_iris(return_X_y=True)\n",
    "X_train, X_test, y_train, y_test = train_test_split(X, y, random_state=42)"
   ]
  },
  {
   "cell_type": "code",
   "execution_count": 4,
   "id": "3ba612f9",
   "metadata": {},
   "outputs": [
    {
     "name": "stdout",
     "output_type": "stream",
     "text": [
      "Linear  Discriminant Analysis accuracy score:  0.9210526315789473\n",
      "Quadratic  Discriminant Analysis accuracy score:  1.0\n"
     ]
    }
   ],
   "source": [
    "y_preds = {}\n",
    "for model in ['Linear', 'Quadratic']:\n",
    "    da = DiscriminantAnalysis(model=model)\n",
    "    da.fit(X_train, y_train)\n",
    "    y_pred = da.predict(X_test)\n",
    "    y_preds[model] = y_pred\n",
    "    print(model, \" Discriminant Analysis accuracy score: \", da.score(X_test, y_test))"
   ]
  },
  {
   "cell_type": "code",
   "execution_count": 5,
   "id": "329ba854",
   "metadata": {},
   "outputs": [
    {
     "name": "stdout",
     "output_type": "stream",
     "text": [
      "Linear|Quadratic|Actual\n",
      "1      1         1\n",
      "0      0         0\n",
      "2      2         2\n",
      "1      1         1\n",
      "1      1         1\n",
      "0      0         0\n",
      "1      1         1\n",
      "1      2         2\n",
      "1      1         1\n",
      "1      1         1\n",
      "1      2         2\n",
      "0      0         0\n",
      "0      0         0\n",
      "0      0         0\n",
      "0      0         0\n",
      "1      1         1\n",
      "2      2         2\n",
      "1      1         1\n",
      "1      1         1\n",
      "2      2         2\n",
      "0      0         0\n",
      "1      2         2\n",
      "0      0         0\n",
      "2      2         2\n",
      "2      2         2\n",
      "2      2         2\n",
      "2      2         2\n",
      "2      2         2\n",
      "0      0         0\n",
      "0      0         0\n",
      "0      0         0\n",
      "0      0         0\n",
      "1      1         1\n",
      "0      0         0\n",
      "0      0         0\n",
      "2      2         2\n",
      "1      1         1\n",
      "0      0         0\n"
     ]
    }
   ],
   "source": [
    "print(*y_preds, 'Actual', sep='|')\n",
    "preds = list(y_preds.values())\n",
    "for i in range(y_test.shape[0]):\n",
    "    print(preds[0][i], ' ' * 4, \n",
    "          preds[1][i], ' ' * 7,\n",
    "          y_test[i])"
   ]
  },
  {
   "cell_type": "code",
   "execution_count": 6,
   "id": "a37ca6f9",
   "metadata": {},
   "outputs": [],
   "source": [
    "X, y = make_classification(\n",
    "    n_samples=100,\n",
    "    n_features=2,\n",
    "    n_informative=2,\n",
    "    n_redundant=0,\n",
    "    n_classes=2,\n",
    "    random_state=0\n",
    ")\n",
    "X_train, X_test, y_train, y_test = train_test_split(X, y, random_state=24)"
   ]
  },
  {
   "cell_type": "code",
   "execution_count": 7,
   "id": "6058e545",
   "metadata": {},
   "outputs": [
    {
     "data": {
      "image/png": "[encoded data removed]",
      "text/plain": [
       "<Figure size 1152x504 with 2 Axes>"
      ]
     },
     "metadata": {
      "needs_background": "light"
     },
     "output_type": "display_data"
    }
   ],
   "source": [
    "fig = plt.figure(figsize=(16, 7))\n",
    "for i, model in enumerate(['Linear', 'Quadratic']):\n",
    "    da = DiscriminantAnalysis(model=model)\n",
    "    da.fit(X_train, y_train)\n",
    "    y_pred = da.predict(X_test)\n",
    "    ax = fig.add_subplot(1, 2, i+1)\n",
    "    i_p = np.where(y_test == 1)[0]\n",
    "    i_n = np.where(y_test == 0)[0]\n",
    "    i_tp = i_p[np.in1d(i_p, np.where(y_pred == 1))]\n",
    "    i_fp = i_p[np.in1d(i_p, np.where(y_pred == 0))]\n",
    "    i_fn = i_n[np.in1d(i_n, np.where(y_pred == 1))]\n",
    "    i_tn = i_n[np.in1d(i_n, np.where(y_pred == 0))]\n",
    "    ax.set_title((model + ' Discriminant Analysis'))\n",
    "    ax.scatter(X[i_tp, 0], X[i_tp, 1], marker='+', s=150, c='b', label='True Positive')\n",
    "    ax.scatter(X[i_fp, 0], X[i_fp, 1], marker='+', s=150, c='r', label='False Positive')\n",
    "    ax.scatter(X[i_fn, 0], X[i_fn, 1], marker='_', s=150, c='r', label='False Negative')\n",
    "    ax.scatter(X[i_tn, 0], X[i_tn, 1], marker='_', s=150, c='b', label='True Negative')\n",
    "    plt.legend()"
   ]
  }
 ],
 "metadata": {
  "kernelspec": {
   "display_name": "Python 3 (ipykernel)",
   "language": "python",
   "name": "python3"
  },
  "language_info": {
   "codemirror_mode": {
    "name": "ipython",
    "version": 3
   },
   "file_extension": ".py",
   "mimetype": "text/x-python",
   "name": "python",
   "nbconvert_exporter": "python",
   "pygments_lexer": "ipython3",
   "version": "3.8.12"
  }
 },
 "nbformat": 4,
 "nbformat_minor": 5
}
